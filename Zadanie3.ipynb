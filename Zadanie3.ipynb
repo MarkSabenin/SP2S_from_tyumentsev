{
 "cells": [
  {
   "cell_type": "code",
   "execution_count": 1,
   "metadata": {
    "dotnet_interactive": {
     "language": "csharp"
    },
    "polyglot_notebook": {
     "kernelName": "csharp"
    }
   },
   "outputs": [
    {
     "data": {
      "text/html": [
       "<div><div></div><div></div><div><strong>Installed Packages</strong><ul><li><span>xunit, 2.8.1</span></li></ul></div></div>"
      ]
     },
     "metadata": {},
     "output_type": "display_data"
    }
   ],
   "source": [
    "using Xunit;\n",
    "using System.Threading;\n",
    "//#r \"nuget: xunit, 2.8.1\"\n",
    "\n",
    "var X = (double x) => x;\n",
    "var SIN = (double x) => Math.Sin(x);\n",
    "\n",
    "Assert.Equal(0, DefiniteIntegral.Solve(-1, 1, X, 1e-4, 2), 1e-4);\n",
    "Assert.Equal(0, DefiniteIntegral.Solve(-1, 1, SIN, 1e-5, 8), 1e-4);\n",
    "Assert.Equal(50, DefiniteIntegral.Solve(0, 10, X, 1e-6, 8), 1e-5);\n",
    "\n",
    "\n",
    "class DefiniteIntegral {\n",
    "    public static double Solve(double a, double b, Func<double, double> function, double step, int threadsnumber) {\n",
    "        int steps = (int)((b-a)/step);\n",
    "\n",
    "        double result = 0;\n",
    "        double[] results = new double[threadsnumber];\n",
    "        Thread[] threads = new Thread[threadsnumber];\n",
    "        \n",
    "        double width = (b - a) / threadsnumber;\n",
    "\n",
    "        for (int i = 0; i < threadsnumber; i++) {\n",
    "            int index = i;\n",
    "            Func<double, double> func = function;\n",
    "            double lower = a + i * width;\n",
    "            double upper = a + (i +1) * width;\n",
    "            int segments = (int)((upper - lower) / step);\n",
    "            threads[i] = new Thread(() => {\n",
    "                results[index] = SolveIntegralTrapezoid(func, lower, upper, segments);\n",
    "            });\n",
    "            threads[i].Start();\n",
    "        }\n",
    "        for (int i = 0; i < threadsnumber; i++) {\n",
    "            threads[i].Join();\n",
    "            result += results[i];\n",
    "        }\n",
    "        return result;\n",
    "    }\n",
    "\n",
    "    public static double SolveIntegralTrapezoid(Func<double, double> function, double lowerBound, double upperBound, int numSegments) {\n",
    "        double interval = (upperBound - lowerBound) / numSegments;\n",
    "        double result = 0.5 * (function(lowerBound) + function(upperBound));\n",
    "\n",
    "        for (int i = 1; i < numSegments; i++) {\n",
    "            double x = lowerBound + i * interval;\n",
    "            result += function(x);\n",
    "        }\n",
    "\n",
    "        return result * interval;\n",
    "    }\n",
    "}"
   ]
  }
 ],
 "metadata": {
  "kernelspec": {
   "display_name": ".NET (C#)",
   "language": "C#",
   "name": ".net-csharp"
  },
  "polyglot_notebook": {
   "kernelInfo": {
    "defaultKernelName": "csharp",
    "items": [
     {
      "aliases": [],
      "languageName": "csharp",
      "name": "csharp"
     }
    ]
   }
  }
 },
 "nbformat": 4,
 "nbformat_minor": 2
}
