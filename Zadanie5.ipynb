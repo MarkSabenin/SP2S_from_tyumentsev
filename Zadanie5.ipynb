{
 "cells": [
  {
   "cell_type": "code",
   "execution_count": 3,
   "metadata": {
    "dotnet_interactive": {
     "language": "csharp"
    },
    "polyglot_notebook": {
     "kernelName": "csharp"
    }
   },
   "outputs": [
    {
     "name": "stdout",
     "output_type": "stream",
     "text": [
      "Checked\r\n"
     ]
    }
   ],
   "source": [
    "//#r \"nuget: xunit, 2.8.1\"\n",
    "using System.Threading;\n",
    "using Xunit;\n",
    "using System.Collections.Concurrent;\n",
    "using System.Threading.Tasks;\n",
    "\n",
    "class Message\n",
    "{\n",
    "    static int messageHandled = 0;\n",
    "    int id;\n",
    "    public Message()\n",
    "    {\n",
    "        id = Thread.CurrentThread.ManagedThreadId;\n",
    "    }\n",
    "    public void Handle()\n",
    "    {\n",
    "        Interlocked.Increment(ref messageHandled);\n",
    "        Assert.NotEqual(id, Thread.CurrentThread.ManagedThreadId);\n",
    "    }\n",
    "    public static void Check()\n",
    "    {\n",
    "        Assert.Equal(200, messageHandled);\n",
    "    }\n",
    "}\n",
    "var q1 = new BlockingCollection<Message>(2); //очередь первого потока\n",
    "var q2 = new BlockingCollection<Message>(2); //очередь второго потока\n",
    "\n",
    "bool f1 = false;\n",
    "bool f2 = false;\n",
    "Thread t1 = new Thread(() => {\n",
    "    for (int i = 0; i < 100; i++)\n",
    "    {\n",
    "        Message m = q1.Take();\n",
    "        m.Handle();\n",
    "        q2.Add(m);\n",
    "        if (i == 99) f1 = true;\n",
    "    }\n",
    "});\n",
    "Thread t2 = new Thread(() => {\n",
    "    for (int i = 0; i < 100; i++)\n",
    "    {\n",
    "        Message m = q2.Take();\n",
    "        m.Handle();\n",
    "        if (i < 99) q1.Add(m);\n",
    "        if (i == 99) f2 = true;\n",
    "    }\n",
    "});\n",
    "Message nm = new Message();\n",
    "q1.Add(nm);\n",
    "t1.Start();\n",
    "t2.Start();\n",
    "Task checkAll  = new Task(() => {\n",
    "    Assert.Equal(0, q1.Count);\n",
    "    Assert.Equal(0, q2.Count);\n",
    "    Message.Check();\n",
    "    Console.WriteLine(\"Checked\");\n",
    "});\n",
    "while (!f2 & !f1) checkAll.Wait(10); \n",
    "checkAll.Start();"
   ]
  }
 ],
 "metadata": {
  "kernelspec": {
   "display_name": ".NET (C#)",
   "language": "C#",
   "name": ".net-csharp"
  },
  "polyglot_notebook": {
   "kernelInfo": {
    "defaultKernelName": "csharp",
    "items": [
     {
      "aliases": [],
      "languageName": "csharp",
      "name": "csharp"
     }
    ]
   }
  }
 },
 "nbformat": 4,
 "nbformat_minor": 2
}
