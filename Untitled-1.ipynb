{
 "cells": [
  {
   "cell_type": "code",
   "execution_count": 7,
   "metadata": {
    "dotnet_interactive": {
     "language": "csharp"
    },
    "polyglot_notebook": {
     "kernelName": "csharp"
    }
   },
   "outputs": [
    {
     "data": {
      "text/html": [
       "<img src=\"data:image/png;base64,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\"></img>"
      ]
     },
     "metadata": {},
     "output_type": "display_data"
    }
   ],
   "source": [
    "using Xunit;\n",
    "using System.Threading;\n",
    "using System.Diagnostics;\n",
    "// Setup a custom formatter to display plots as images\n",
    "// #r \"nuget: xunit, 2.8.1\"\n",
    "// #r \"nuget:ScottPlot, 5.0.*\"\n",
    "using Microsoft.DotNet.Interactive.Formatting;\n",
    "Formatter.Register(typeof(ScottPlot.Plot), (p, w) => \n",
    "    w.Write(((ScottPlot.Plot)p).GetImageHtml(400, 300)), HtmlFormatter.MimeType);\n",
    "\n",
    "\n",
    "class Program{\n",
    "static public void Main(){\n",
    "var SIN = (double x) => Math.Sin(x);\n",
    "\n",
    "\n",
    "/*\n",
    "Stopwatch stopWatch1 = new Stopwatch();\n",
    "stopWatch1.Start();\n",
    "Assert.Equal(0, DefiniteIntegral.SolveIntegralTrapezoid1(SIN, -100, 100, 1e-2), 1e-4);\n",
    "stopWatch1.Stop();\n",
    "TimeSpan ts1 = stopWatch1.Elapsed;\n",
    "string elapsedTime1 = String.Format(\"{0:00}:{1:00}:{2:00}.{3:00}\", ts1.Hours, ts1.Minutes, ts1.Seconds, ts1.Milliseconds);\n",
    "Console.WriteLine(\"RunTime1 \" + elapsedTime1);\n",
    "*/\n",
    "double[] dataX = new double[12];\n",
    "for (int i = 1; i < 12; i++) {\n",
    "    double res = 0;\n",
    "    for (int j = 0; j < 100; j++){\n",
    "        Stopwatch stopWatch = new Stopwatch();\n",
    "        stopWatch.Start();\n",
    "        Assert.Equal(0, DefiniteIntegral.Solve(-100, 100, SIN, 1e-1, i), 1e-4);\n",
    "        stopWatch.Stop();\n",
    "        res +=  Convert.ToDouble(String.Format(\"{0:00000}\", stopWatch.Elapsed.TotalMilliseconds));\n",
    "       // Console.WriteLine(String.Format(\"{0:00000}\", stopWatch.Elapsed.Milliseconds));\n",
    "        \n",
    "        }\n",
    "dataX[i] = res/100;\n",
    "}\n",
    "double res1 = 0;\n",
    "for (int j = 0; j < 100; j++) {\n",
    "    Stopwatch stopWatch1 = new Stopwatch();\n",
    "    stopWatch1.Start();\n",
    "    Assert.Equal(0, DefiniteIntegral.SolveIntegralTrapezoid1(SIN, -100, 100, 1e-1), 1e-4);\n",
    "    stopWatch1.Stop();\n",
    "    res1 += Convert.ToDouble(String.Format(\"{0:00000}\", stopWatch1.Elapsed.Milliseconds));\n",
    "}\n",
    "dataX[0] = res1/100;\n",
    "\n",
    "// create sample data\n",
    "double[] dataY = new double[] { 1, 2, 3, 4, 5, 6, 7, 8, 9, 10, 11, 12 };\n",
    "\n",
    "// plot the data\n",
    "ScottPlot.Plot plt = new();\n",
    "plt.Add.Scatter(dataX, dataY);\n",
    "\n",
    "// display the plot\n",
    "plt.Display();\n",
    "}\n",
    "class DefiniteIntegral {\n",
    "    public static double Solve(double a, double b, Func<double, double> function, double step, int threadsnumber) {\n",
    "        int steps = (int)((b-a)/step);\n",
    "        double result = 0;\n",
    "        double[] results = new double[threadsnumber];\n",
    "        Thread[] threads = new Thread[threadsnumber];\n",
    "        \n",
    "        double width = (b - a) / threadsnumber;\n",
    "\n",
    "        for (int i = 0; i < threadsnumber; i++) {\n",
    "            int index = i;\n",
    "            Func<double, double> func = function;\n",
    "            double lower = a + i * width;\n",
    "            double upper = a + (i +1) * width;\n",
    "            int segments = (int)((upper - lower) / step);\n",
    "            threads[i] = new Thread(() => {\n",
    "                results[index] = SolveIntegralTrapezoid(func, lower, upper, segments);\n",
    "            });\n",
    "            threads[i].Start();\n",
    "        }\n",
    "        for (int i = 0; i < threadsnumber; i++) {\n",
    "            threads[i].Join();\n",
    "            result += results[i];\n",
    "        }\n",
    "        return result;\n",
    "    }\n",
    "\n",
    "    public static double SolveIntegralTrapezoid(Func<double, double> function, double lowerBound, double upperBound, int numSegments) {\n",
    "        double interval = (upperBound - lowerBound) / numSegments;\n",
    "        double result = 0.5 * (function(lowerBound) + function(upperBound));\n",
    "\n",
    "        for (int i = 1; i < numSegments; i++) {\n",
    "            double x = lowerBound + i * interval;\n",
    "            result += function(x);\n",
    "        }\n",
    "\n",
    "        return result * interval;\n",
    "    }\n",
    "    public static double SolveIntegralTrapezoid1(Func<double, double> function, double a, double b, double step) {\n",
    "        double numSegments = (b-a) / step;\n",
    "        double result = 0.5 * (function(a) + function(b));\n",
    "\n",
    "        for (int i = 1; i < numSegments; i++) {\n",
    "            double x = a + i * step;\n",
    "            result += function(x);\n",
    "        }\n",
    "\n",
    "        return result * step;\n",
    "    }\n",
    "}\n",
    "}\n",
    "\n",
    "Program.Main();"
   ]
  },
  {
   "cell_type": "markdown",
   "metadata": {},
   "source": [
    "Summary\n",
    "\n",
    "размер шага (п. 4): 1е-1;\n",
    "\n",
    "оптимальное количество потоков (п. 5): 3\n",
    "\n",
    "скорость оптимальной многопоточной версии в сравнении с однопоточной (время работы, разница в процентах): 0 0 0\n",
    "\n"
   ]
  }
 ],
 "metadata": {
  "kernelspec": {
   "display_name": ".NET (C#)",
   "language": "C#",
   "name": ".net-csharp"
  },
  "polyglot_notebook": {
   "kernelInfo": {
    "defaultKernelName": "csharp",
    "items": [
     {
      "aliases": [],
      "languageName": "csharp",
      "name": "csharp"
     }
    ]
   }
  }
 },
 "nbformat": 4,
 "nbformat_minor": 2
}
