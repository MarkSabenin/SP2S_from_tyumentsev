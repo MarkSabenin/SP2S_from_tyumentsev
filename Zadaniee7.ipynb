{
 "cells": [
  {
   "cell_type": "code",
   "execution_count": 1,
   "metadata": {
    "dotnet_interactive": {
     "language": "csharp"
    },
    "polyglot_notebook": {
     "kernelName": "csharp"
    }
   },
   "outputs": [
    {
     "data": {
      "text/html": [
       "<div><div></div><div></div><div><strong>Installed Packages</strong><ul><li><span>xunit, 2.8.1</span></li></ul></div></div>"
      ]
     },
     "metadata": {},
     "output_type": "display_data"
    },
    {
     "name": "stdout",
     "output_type": "stream",
     "text": [
      "эxххх...\n",
      "Starting to eat....\n",
      "Hard stop.\n",
      "\n",
      "эxххх...\n",
      "Starting to eat....\n",
      "Eatting finished successfully\n",
      "I'm cooking rn\n",
      "I'm cooking rn\n",
      "Starting to eat....\n",
      "Eatting finished successfully\n",
      "эxххх...\n"
     ]
    }
   ],
   "source": [
    "using Xunit;\n",
    "using System.Threading;\n",
    "\n",
    "#r \"nuget: xunit, 2.8.1\"\n",
    "\n",
    "Queue<ICommand> commandQueue = new Queue<ICommand>();\n",
    "commandQueue.Enqueue(new Eh());\n",
    "commandQueue.Enqueue(new Eatter());\n",
    "commandQueue.Enqueue(new Cooker());\n",
    "commandQueue.Enqueue(new Cooker());\n",
    "commandQueue.Enqueue(new Eatter());\n",
    "commandQueue.Enqueue(new Eh());\n",
    "// 8====эx\n",
    "ServerThread st1 = new ServerThread(commandQueue);\n",
    "\n",
    "Thread test1 = new Thread(() => {\n",
    "    Thread.Sleep(1000);\n",
    "    st1.HardStop();\n",
    "    st1.PushCommand(new Cooker());\n",
    "});\n",
    "\n",
    "test1.Start();\n",
    "//ФАШИЗМ ЭТО ЗАЕБИСЬ Я РАСИСТ НАСИЛОВАТЬ ГОВНО СЛАВА УКРАИНЕ СБЭУ МАРК САБЕНИНА  ААААА ААААА\n",
    "Thread.Sleep(5000);\n",
    "Console.WriteLine();\n",
    "ServerThread st2 = new ServerThread(commandQueue);\n",
    "\n",
    "Thread test2 = new Thread(() => {\n",
    "    Thread.Sleep(1000);\n",
    "    st2.SoftStop();\n",
    "    st2.PushCommand(new Cooker());\n",
    "});\n",
    "test2.Start();\n",
    "\n",
    "Thread.Sleep(8000);\n",
    "\n",
    "    public interface ICommand {\n",
    "        void Execute();\n",
    "    }\n",
    "\n",
    "    public class Eatter : ICommand {\n",
    "        public void Execute() {\n",
    "            Console.WriteLine(\"Starting to eat....\");\n",
    "            Thread.Sleep(2000);\n",
    "            if (Random.Shared.Next() % 2 == 0) {\n",
    "                throw new Exception(\"Mark Sabenin ate all food oops \");\n",
    "            }\n",
    "            Console.WriteLine(\"Eatting finished successfully\");\n",
    "        }\n",
    "    }\n",
    "\n",
    "    public class Cooker : ICommand {\n",
    "        public void Execute() {\n",
    "            Console.WriteLine(\"I'm cooking rn\");\n",
    "        }\n",
    "    }\n",
    "\n",
    "    public class Eh : ICommand {\n",
    "        public void Execute() {\n",
    "            Console.WriteLine(\"эxххх...\");\n",
    "        }\n",
    "    }\n",
    "\n",
    "    public class ServerThread {\n",
    "        private Queue<ICommand> commandQueue;\n",
    "        private Thread thread;\n",
    "        private bool shouldStop = false;\n",
    "\n",
    "        public ServerThread(Queue<ICommand> command) {\n",
    "            commandQueue = new Queue<ICommand>(command);\n",
    "            thread = new Thread(HandleCommands);\n",
    "            thread.Start();\n",
    "        }\n",
    "\n",
    "        public void PushCommand(ICommand command) {\n",
    "            if (shouldStop) return;\n",
    "            commandQueue.Enqueue(command);\n",
    "            if (thread.ThreadState != ThreadState.Running) {\n",
    "                thread = new Thread(HandleCommands);\n",
    "                thread.Start();\n",
    "            }\n",
    "        }\n",
    "\n",
    "        public void HardStop() {\n",
    "            thread.Interrupt();\n",
    "            shouldStop = true;\n",
    "        }\n",
    "\n",
    "        public void SoftStop() {\n",
    "            shouldStop = true;\n",
    "        }\n",
    "\n",
    "        private void HandleCommands() {\n",
    "            while (commandQueue.Count > 0) {\n",
    "                try {\n",
    "                    commandQueue.Dequeue().Execute();\n",
    "                } catch (ThreadInterruptedException) {\n",
    "                    Console.WriteLine(\"Hard stop.\");\n",
    "                    return;\n",
    "                } catch (Exception e) {\n",
    "                    Console.WriteLine($\"An error occured in thread {System.Environment.CurrentManagedThreadId}: \\n\" + e.Message);\n",
    "                }\n",
    "            }\n",
    "            if (shouldStop) {\n",
    "                thread.Interrupt();\n",
    "            }\n",
    "        }\n",
    "    }"
   ]
  }
 ],
 "metadata": {
  "kernelspec": {
   "display_name": ".NET (C#)",
   "language": "C#",
   "name": ".net-csharp"
  },
  "polyglot_notebook": {
   "kernelInfo": {
    "defaultKernelName": "csharp",
    "items": [
     {
      "aliases": [],
      "languageName": "csharp",
      "name": "csharp"
     }
    ]
   }
  }
 },
 "nbformat": 4,
 "nbformat_minor": 2
}
